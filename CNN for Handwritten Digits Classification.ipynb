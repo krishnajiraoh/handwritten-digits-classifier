{
 "cells": [
  {
   "cell_type": "markdown",
   "metadata": {},
   "source": [
    "# Import libs"
   ]
  },
  {
   "cell_type": "code",
   "execution_count": 1,
   "metadata": {
    "ExecuteTime": {
     "end_time": "2022-02-07T16:46:35.477027Z",
     "start_time": "2022-02-07T16:46:33.472960Z"
    }
   },
   "outputs": [],
   "source": [
    "import tensorflow as tf\n",
    "from tensorflow import keras\n",
    "from tensorflow.keras import layers,models\n",
    "from sklearn.metrics import classification_report\n",
    "\n",
    "import numpy as np\n",
    "\n",
    "import matplotlib.pyplot as plt\n",
    "import seaborn as sns"
   ]
  },
  {
   "cell_type": "markdown",
   "metadata": {},
   "source": [
    "# Load Dataset"
   ]
  },
  {
   "cell_type": "code",
   "execution_count": 2,
   "metadata": {
    "ExecuteTime": {
     "end_time": "2022-02-07T14:52:30.258091Z",
     "start_time": "2022-02-07T14:52:29.838114Z"
    }
   },
   "outputs": [],
   "source": [
    "(X_train, y_train) , (X_test, y_test) = keras.datasets.mnist.load_data()"
   ]
  },
  {
   "cell_type": "code",
   "execution_count": 3,
   "metadata": {
    "ExecuteTime": {
     "end_time": "2022-02-07T14:52:46.873660Z",
     "start_time": "2022-02-07T14:52:46.854642Z"
    }
   },
   "outputs": [
    {
     "data": {
      "text/plain": [
       "(60000, 28, 28)"
      ]
     },
     "execution_count": 3,
     "metadata": {},
     "output_type": "execute_result"
    }
   ],
   "source": [
    "X_train.shape"
   ]
  },
  {
   "cell_type": "code",
   "execution_count": 4,
   "metadata": {
    "ExecuteTime": {
     "end_time": "2022-02-07T14:52:53.759717Z",
     "start_time": "2022-02-07T14:52:53.749721Z"
    }
   },
   "outputs": [
    {
     "data": {
      "text/plain": [
       "(60000,)"
      ]
     },
     "execution_count": 4,
     "metadata": {},
     "output_type": "execute_result"
    }
   ],
   "source": [
    "y_train.shape"
   ]
  },
  {
   "cell_type": "code",
   "execution_count": 5,
   "metadata": {
    "ExecuteTime": {
     "end_time": "2022-02-07T14:53:01.959280Z",
     "start_time": "2022-02-07T14:53:01.949062Z"
    }
   },
   "outputs": [
    {
     "data": {
      "text/plain": [
       "(10000, 28, 28)"
      ]
     },
     "execution_count": 5,
     "metadata": {},
     "output_type": "execute_result"
    }
   ],
   "source": [
    "X_test.shape"
   ]
  },
  {
   "cell_type": "code",
   "execution_count": 6,
   "metadata": {
    "ExecuteTime": {
     "end_time": "2022-02-07T14:53:06.203450Z",
     "start_time": "2022-02-07T14:53:06.191451Z"
    }
   },
   "outputs": [
    {
     "data": {
      "text/plain": [
       "(10000,)"
      ]
     },
     "execution_count": 6,
     "metadata": {},
     "output_type": "execute_result"
    }
   ],
   "source": [
    "y_test.shape"
   ]
  },
  {
   "cell_type": "code",
   "execution_count": 7,
   "metadata": {
    "ExecuteTime": {
     "end_time": "2022-02-07T15:23:15.859576Z",
     "start_time": "2022-02-07T15:23:15.849580Z"
    }
   },
   "outputs": [
    {
     "data": {
      "text/plain": [
       "(28, 28)"
      ]
     },
     "execution_count": 7,
     "metadata": {},
     "output_type": "execute_result"
    }
   ],
   "source": [
    "X_train[0].shape"
   ]
  },
  {
   "cell_type": "code",
   "execution_count": 8,
   "metadata": {
    "ExecuteTime": {
     "end_time": "2022-02-07T16:24:40.971497Z",
     "start_time": "2022-02-07T16:24:40.848497Z"
    }
   },
   "outputs": [
    {
     "data": {
      "text/plain": [
       "<matplotlib.image.AxesImage at 0x2984fe460>"
      ]
     },
     "execution_count": 8,
     "metadata": {},
     "output_type": "execute_result"
    },
    {
     "data": {
      "image/png": "[encoded data removed]",
      "text/plain": [
       "<Figure size 640x480 with 1 Axes>"
      ]
     },
     "metadata": {},
     "output_type": "display_data"
    }
   ],
   "source": [
    "plt.imshow(X_train[0], cmap='gray')"
   ]
  },
  {
   "cell_type": "markdown",
   "metadata": {},
   "source": [
    "# Util function\n",
    "Display the image & its label"
   ]
  },
  {
   "cell_type": "code",
   "execution_count": 9,
   "metadata": {
    "ExecuteTime": {
     "end_time": "2022-02-07T16:43:01.949916Z",
     "start_time": "2022-02-07T16:43:01.834914Z"
    }
   },
   "outputs": [
    {
     "data": {
      "image/png": "[encoded data removed]",
      "text/plain": [
       "<Figure size 640x480 with 1 Axes>"
      ]
     },
     "metadata": {},
     "output_type": "display_data"
    }
   ],
   "source": [
    "def plot_image(X,y,index):\n",
    "    plt.imshow(X[index])\n",
    "    plt.xlabel(y[index])\n",
    "    \n",
    "plot_image(X_train, y_train, 10)"
   ]
  },
  {
   "cell_type": "markdown",
   "metadata": {},
   "source": [
    "# Preprocessing\n",
    "Scale X data "
   ]
  },
  {
   "cell_type": "code",
   "execution_count": 10,
   "metadata": {
    "ExecuteTime": {
     "end_time": "2022-02-07T14:55:57.611244Z",
     "start_time": "2022-02-07T14:55:57.349238Z"
    }
   },
   "outputs": [],
   "source": [
    "X_train = X_train / 255.0\n",
    "X_test = X_test / 255.0"
   ]
  },
  {
   "cell_type": "markdown",
   "metadata": {},
   "source": [
    "# CNN model - Build, compile, Fit, Evaluate"
   ]
  },
  {
   "cell_type": "code",
   "execution_count": 13,
   "metadata": {},
   "outputs": [],
   "source": [
    "def build_compile_model(optimizer=\"adam\", loss=\"sparse_categorical_crossentropy\",\n",
    "                metrics=[\"accuracy\"]):\n",
    "\n",
    "    model = keras.Sequential([\n",
    "    \n",
    "    #cnn\n",
    "    keras.layers.Conv1D(filters=28, kernel_size=(3),input_shape=(28,28), activation=\"relu\"),\n",
    "    keras.layers.MaxPool1D(pool_size=(2)),\n",
    "    \n",
    "    keras.layers.Conv1D(filters=28, kernel_size=(3), activation=\"relu\"),\n",
    "    keras.layers.MaxPool1D(pool_size=(2)),\n",
    "    \n",
    "    #dense\n",
    "    keras.layers.Flatten(),\n",
    "    keras.layers.Dense(56, activation=\"relu\"),\n",
    "    keras.layers.Dense(10, activation=\"softmax\")    \n",
    "    ])\n",
    "\n",
    "    model.compile(optimizer=optimizer, loss=loss, metrics=metrics)\n",
    "\n",
    "    return model\n",
    "\n",
    "def fit_model(model, X_train, y_train, validation_data, epochs=10):\n",
    "    return model.fit(X_train, y_train, validation_data=validation_data ,epochs=epochs)\n",
    "\n",
    "def train_model(X_train, y_train, validation_data, epochs=10, optimizer=\"adam\", loss=\"sparse_categorical_crossentropy\",\n",
    "                metrics=[\"accuracy\"]):\n",
    "\n",
    "    model = build_compile_model(optimizer, loss, metrics)\n",
    "    history = fit_model(model, X_train, y_train, validation_data, epochs )\n",
    "    return (model, history)\n",
    "    "
   ]
  },
  {
   "cell_type": "code",
   "execution_count": 15,
   "metadata": {},
   "outputs": [
    {
     "name": "stdout",
     "output_type": "stream",
     "text": [
      "Epoch 1/25\n",
      "1875/1875 [==============================] - 3s 1ms/step - loss: 0.7300 - accuracy: 0.7753 - val_loss: 0.2838 - val_accuracy: 0.9136\n",
      "Epoch 2/25\n",
      "1875/1875 [==============================] - 2s 1ms/step - loss: 0.2483 - accuracy: 0.9256 - val_loss: 0.2031 - val_accuracy: 0.9386\n",
      "Epoch 3/25\n",
      "1875/1875 [==============================] - 2s 1ms/step - loss: 0.1846 - accuracy: 0.9442 - val_loss: 0.1504 - val_accuracy: 0.9517\n",
      "Epoch 4/25\n",
      "1875/1875 [==============================] - 2s 1ms/step - loss: 0.1519 - accuracy: 0.9543 - val_loss: 0.1305 - val_accuracy: 0.9599\n",
      "Epoch 5/25\n",
      "1875/1875 [==============================] - 2s 1ms/step - loss: 0.1316 - accuracy: 0.9602 - val_loss: 0.1140 - val_accuracy: 0.9649\n",
      "Epoch 6/25\n",
      "1875/1875 [==============================] - 2s 1ms/step - loss: 0.1177 - accuracy: 0.9650 - val_loss: 0.1002 - val_accuracy: 0.9672\n",
      "Epoch 7/25\n",
      "1875/1875 [==============================] - 2s 1ms/step - loss: 0.1066 - accuracy: 0.9675 - val_loss: 0.0990 - val_accuracy: 0.9689\n",
      "Epoch 8/25\n",
      "1875/1875 [==============================] - 2s 1ms/step - loss: 0.0987 - accuracy: 0.9699 - val_loss: 0.0886 - val_accuracy: 0.9731\n",
      "Epoch 9/25\n",
      "1875/1875 [==============================] - 3s 1ms/step - loss: 0.0913 - accuracy: 0.9726 - val_loss: 0.0899 - val_accuracy: 0.9713\n",
      "Epoch 10/25\n",
      "1875/1875 [==============================] - 2s 1ms/step - loss: 0.0858 - accuracy: 0.9740 - val_loss: 0.0820 - val_accuracy: 0.9744\n",
      "Epoch 11/25\n",
      "1875/1875 [==============================] - 2s 1ms/step - loss: 0.0808 - accuracy: 0.9755 - val_loss: 0.0786 - val_accuracy: 0.9736\n",
      "Epoch 12/25\n",
      "1875/1875 [==============================] - 2s 1ms/step - loss: 0.0765 - accuracy: 0.9768 - val_loss: 0.0713 - val_accuracy: 0.9781\n",
      "Epoch 13/25\n",
      "1875/1875 [==============================] - 2s 1ms/step - loss: 0.0723 - accuracy: 0.9782 - val_loss: 0.0753 - val_accuracy: 0.9767\n",
      "Epoch 14/25\n",
      "1875/1875 [==============================] - 2s 1ms/step - loss: 0.0691 - accuracy: 0.9790 - val_loss: 0.0685 - val_accuracy: 0.9775\n",
      "Epoch 15/25\n",
      "1875/1875 [==============================] - 2s 1ms/step - loss: 0.0667 - accuracy: 0.9797 - val_loss: 0.0654 - val_accuracy: 0.9785\n",
      "Epoch 16/25\n",
      "1875/1875 [==============================] - 2s 1ms/step - loss: 0.0635 - accuracy: 0.9808 - val_loss: 0.0631 - val_accuracy: 0.9795\n",
      "Epoch 17/25\n",
      "1875/1875 [==============================] - 2s 1ms/step - loss: 0.0616 - accuracy: 0.9811 - val_loss: 0.0663 - val_accuracy: 0.9777\n",
      "Epoch 18/25\n",
      "1875/1875 [==============================] - 3s 1ms/step - loss: 0.0592 - accuracy: 0.9819 - val_loss: 0.0636 - val_accuracy: 0.9790\n",
      "Epoch 19/25\n",
      "1875/1875 [==============================] - 2s 1ms/step - loss: 0.0569 - accuracy: 0.9828 - val_loss: 0.0602 - val_accuracy: 0.9812\n",
      "Epoch 20/25\n",
      "1875/1875 [==============================] - 2s 1ms/step - loss: 0.0554 - accuracy: 0.9834 - val_loss: 0.0582 - val_accuracy: 0.9820\n",
      "Epoch 21/25\n",
      "1875/1875 [==============================] - 2s 1ms/step - loss: 0.0533 - accuracy: 0.9841 - val_loss: 0.0662 - val_accuracy: 0.9787\n",
      "Epoch 22/25\n",
      "1875/1875 [==============================] - 2s 1ms/step - loss: 0.0516 - accuracy: 0.9849 - val_loss: 0.0680 - val_accuracy: 0.9784\n",
      "Epoch 23/25\n",
      "1875/1875 [==============================] - 2s 1ms/step - loss: 0.0500 - accuracy: 0.9848 - val_loss: 0.0575 - val_accuracy: 0.9818\n",
      "Epoch 24/25\n",
      "1875/1875 [==============================] - 2s 1ms/step - loss: 0.0488 - accuracy: 0.9856 - val_loss: 0.0564 - val_accuracy: 0.9815\n",
      "Epoch 25/25\n",
      "1875/1875 [==============================] - 2s 1ms/step - loss: 0.0474 - accuracy: 0.9855 - val_loss: 0.0551 - val_accuracy: 0.9826\n"
     ]
    },
    {
     "name": "stderr",
     "output_type": "stream",
     "text": [
      "WARNING:absl:Found untraced functions such as _jit_compiled_convolution_op, _jit_compiled_convolution_op while saving (showing 2 of 2). These functions will not be directly callable after loading.\n"
     ]
    },
    {
     "name": "stdout",
     "output_type": "stream",
     "text": [
      "INFO:tensorflow:Assets written to: model/cnn/assets\n"
     ]
    },
    {
     "name": "stderr",
     "output_type": "stream",
     "text": [
      "INFO:tensorflow:Assets written to: model/cnn/assets\n"
     ]
    }
   ],
   "source": [
    "model, history = train_model(X_train, y_train, validation_data=(X_test, y_test), epochs=25, optimizer=\"SGD\")\n",
    "model.save(\"model/cnn\")"
   ]
  },
  {
   "cell_type": "code",
   "execution_count": 11,
   "metadata": {
    "ExecuteTime": {
     "end_time": "2022-02-07T16:28:15.581111Z",
     "start_time": "2022-02-07T16:26:45.543970Z"
    }
   },
   "outputs": [
    {
     "name": "stdout",
     "output_type": "stream",
     "text": [
      "Epoch 1/10\n"
     ]
    },
    {
     "name": "stderr",
     "output_type": "stream",
     "text": [
      "2023-05-09 19:08:50.098409: W tensorflow/tsl/platform/profile_utils/cpu_utils.cc:128] Failed to get CPU frequency: 0 Hz\n"
     ]
    },
    {
     "name": "stdout",
     "output_type": "stream",
     "text": [
      "1875/1875 [==============================] - 3s 1ms/step - loss: 0.2621 - accuracy: 0.9228\n",
      "Epoch 2/10\n",
      "1875/1875 [==============================] - 3s 1ms/step - loss: 0.0974 - accuracy: 0.9707\n",
      "Epoch 3/10\n",
      "1875/1875 [==============================] - 3s 1ms/step - loss: 0.0735 - accuracy: 0.9775\n",
      "Epoch 4/10\n",
      "1875/1875 [==============================] - 3s 1ms/step - loss: 0.0604 - accuracy: 0.9811\n",
      "Epoch 5/10\n",
      "1875/1875 [==============================] - 2s 1ms/step - loss: 0.0500 - accuracy: 0.9842\n",
      "Epoch 6/10\n",
      "1875/1875 [==============================] - 2s 1ms/step - loss: 0.0439 - accuracy: 0.9863\n",
      "Epoch 7/10\n",
      "1875/1875 [==============================] - 2s 1ms/step - loss: 0.0371 - accuracy: 0.9883\n",
      "Epoch 8/10\n",
      "1875/1875 [==============================] - 2s 1ms/step - loss: 0.0338 - accuracy: 0.9892\n",
      "Epoch 9/10\n",
      "1875/1875 [==============================] - 3s 1ms/step - loss: 0.0290 - accuracy: 0.9912\n",
      "Epoch 10/10\n",
      "1875/1875 [==============================] - 3s 1ms/step - loss: 0.0270 - accuracy: 0.9912\n"
     ]
    },
    {
     "data": {
      "text/plain": [
       "<keras.callbacks.History at 0x2e64c1c70>"
      ]
     },
     "execution_count": 11,
     "metadata": {},
     "output_type": "execute_result"
    }
   ],
   "source": [
    "model = keras.Sequential([\n",
    "    \n",
    "    #cnn\n",
    "    keras.layers.Conv1D(filters=28, kernel_size=(3),input_shape=(28,28), activation=\"relu\"),\n",
    "    keras.layers.MaxPool1D(pool_size=(2)),\n",
    "    \n",
    "    keras.layers.Conv1D(filters=28, kernel_size=(3), activation=\"relu\"),\n",
    "    keras.layers.MaxPool1D(pool_size=(2)),\n",
    "    \n",
    "    #dense\n",
    "    keras.layers.Flatten(),\n",
    "    keras.layers.Dense(56, activation=\"relu\"),\n",
    "    keras.layers.Dense(10, activation=\"softmax\")    \n",
    "])\n",
    "\n",
    "model.compile(optimizer=\"adam\", \n",
    "              loss=\"sparse_categorical_crossentropy\",\n",
    "              metrics=[\"accuracy\"])\n",
    "\n",
    "model.fit(X_train, y_train, epochs=10)"
   ]
  },
  {
   "cell_type": "code",
   "execution_count": 12,
   "metadata": {
    "ExecuteTime": {
     "end_time": "2022-02-07T16:28:40.043570Z",
     "start_time": "2022-02-07T16:28:38.905571Z"
    }
   },
   "outputs": [
    {
     "name": "stdout",
     "output_type": "stream",
     "text": [
      "313/313 [==============================] - 0s 584us/step - loss: 0.0495 - accuracy: 0.9849\n"
     ]
    },
    {
     "data": {
      "text/plain": [
       "[0.04951216280460358, 0.9848999977111816]"
      ]
     },
     "execution_count": 12,
     "metadata": {},
     "output_type": "execute_result"
    }
   ],
   "source": [
    "model.evaluate(X_test, y_test)"
   ]
  },
  {
   "cell_type": "code",
   "execution_count": 13,
   "metadata": {
    "ExecuteTime": {
     "end_time": "2022-02-07T16:38:35.245932Z",
     "start_time": "2022-02-07T16:38:34.495919Z"
    }
   },
   "outputs": [
    {
     "name": "stdout",
     "output_type": "stream",
     "text": [
      "313/313 [==============================] - 0s 604us/step\n"
     ]
    },
    {
     "data": {
      "text/plain": [
       "array([[2.7729088e-11, 2.4878634e-07, 8.3218811e-07, 1.2462460e-04,\n",
       "        4.0053935e-10, 7.9488034e-09, 1.1334480e-15, 9.9987149e-01,\n",
       "        3.2492347e-09, 2.6831410e-06],\n",
       "       [2.7776633e-12, 5.1389408e-05, 9.9994862e-01, 5.3919499e-13,\n",
       "        3.6644792e-13, 4.8586615e-15, 7.7114682e-13, 4.2023302e-10,\n",
       "        2.0845334e-11, 2.1428247e-23],\n",
       "       [4.8977444e-07, 9.9995494e-01, 3.2180870e-07, 8.8111697e-08,\n",
       "        2.0803307e-05, 1.6802674e-06, 1.1214694e-06, 1.6383703e-05,\n",
       "        3.3756778e-06, 7.8812946e-07],\n",
       "       [9.9999976e-01, 1.6097769e-10, 5.5788846e-10, 2.9259475e-10,\n",
       "        1.1737558e-09, 6.3040915e-09, 1.1769874e-07, 1.1140682e-08,\n",
       "        1.2654271e-09, 1.2921933e-07],\n",
       "       [3.1457716e-09, 7.9445158e-08, 1.0166710e-08, 2.4040895e-08,\n",
       "        9.9993992e-01, 7.1078712e-09, 4.6463897e-10, 6.0012496e-07,\n",
       "        8.9320112e-10, 5.9305301e-05]], dtype=float32)"
      ]
     },
     "execution_count": 13,
     "metadata": {},
     "output_type": "execute_result"
    }
   ],
   "source": [
    "y_pred = model.predict(X_test)\n",
    "y_pred[:5]"
   ]
  },
  {
   "cell_type": "code",
   "execution_count": 14,
   "metadata": {
    "ExecuteTime": {
     "end_time": "2022-02-07T16:39:23.486415Z",
     "start_time": "2022-02-07T16:39:23.448414Z"
    }
   },
   "outputs": [
    {
     "data": {
      "text/plain": [
       "[7, 2, 1, 0, 4]"
      ]
     },
     "execution_count": 14,
     "metadata": {},
     "output_type": "execute_result"
    }
   ],
   "source": [
    "y_pred = [np.argmax(x) for x in y_pred]\n",
    "y_pred[:5]"
   ]
  },
  {
   "cell_type": "code",
   "execution_count": 15,
   "metadata": {
    "ExecuteTime": {
     "end_time": "2022-02-07T16:39:32.480062Z",
     "start_time": "2022-02-07T16:39:32.467062Z"
    }
   },
   "outputs": [
    {
     "data": {
      "text/plain": [
       "array([7, 2, 1, 0, 4], dtype=uint8)"
      ]
     },
     "execution_count": 15,
     "metadata": {},
     "output_type": "execute_result"
    }
   ],
   "source": [
    "y_test[:5]"
   ]
  },
  {
   "cell_type": "code",
   "execution_count": 16,
   "metadata": {
    "ExecuteTime": {
     "end_time": "2022-02-07T16:43:26.768498Z",
     "start_time": "2022-02-07T16:43:26.650505Z"
    }
   },
   "outputs": [
    {
     "data": {
      "image/png": "[encoded data removed]",
      "text/plain": [
       "<Figure size 640x480 with 1 Axes>"
      ]
     },
     "metadata": {},
     "output_type": "display_data"
    }
   ],
   "source": [
    "plot_image(X_test, y_pred, 10)"
   ]
  },
  {
   "cell_type": "code",
   "execution_count": 17,
   "metadata": {
    "ExecuteTime": {
     "end_time": "2022-02-07T16:43:37.300568Z",
     "start_time": "2022-02-07T16:43:37.153572Z"
    }
   },
   "outputs": [
    {
     "data": {
      "image/png": "[encoded data removed]",
      "text/plain": [
       "<Figure size 640x480 with 1 Axes>"
      ]
     },
     "metadata": {},
     "output_type": "display_data"
    }
   ],
   "source": [
    "plot_image(X_test, y_pred, 56)"
   ]
  },
  {
   "cell_type": "code",
   "execution_count": 18,
   "metadata": {
    "ExecuteTime": {
     "end_time": "2022-02-07T16:43:46.880676Z",
     "start_time": "2022-02-07T16:43:46.689673Z"
    }
   },
   "outputs": [
    {
     "data": {
      "image/png": "[encoded data removed]",
      "text/plain": [
       "<Figure size 640x480 with 1 Axes>"
      ]
     },
     "metadata": {},
     "output_type": "display_data"
    }
   ],
   "source": [
    "plot_image(X_test, y_pred, 106)"
   ]
  },
  {
   "cell_type": "code",
   "execution_count": 19,
   "metadata": {
    "ExecuteTime": {
     "end_time": "2022-02-07T16:44:15.131355Z",
     "start_time": "2022-02-07T16:44:15.083355Z"
    }
   },
   "outputs": [
    {
     "name": "stdout",
     "output_type": "stream",
     "text": [
      "              precision    recall  f1-score   support\n",
      "\n",
      "           0       0.98      0.99      0.99       980\n",
      "           1       0.99      0.99      0.99      1135\n",
      "           2       0.99      0.97      0.98      1032\n",
      "           3       0.98      0.99      0.99      1010\n",
      "           4       0.98      0.99      0.99       982\n",
      "           5       0.98      0.99      0.98       892\n",
      "           6       1.00      0.98      0.99       958\n",
      "           7       0.98      0.99      0.98      1028\n",
      "           8       0.99      0.97      0.98       974\n",
      "           9       0.98      0.98      0.98      1009\n",
      "\n",
      "    accuracy                           0.98     10000\n",
      "   macro avg       0.98      0.98      0.98     10000\n",
      "weighted avg       0.98      0.98      0.98     10000\n",
      "\n"
     ]
    }
   ],
   "source": [
    "print(classification_report(y_test, y_pred))"
   ]
  },
  {
   "cell_type": "code",
   "execution_count": 20,
   "metadata": {
    "ExecuteTime": {
     "end_time": "2022-02-07T16:48:30.175635Z",
     "start_time": "2022-02-07T16:48:29.282638Z"
    }
   },
   "outputs": [
    {
     "data": {
      "text/plain": [
       "Text(95.72222222222221, 0.5, 'Truth')"
      ]
     },
     "execution_count": 20,
     "metadata": {},
     "output_type": "execute_result"
    },
    {
     "data": {
      "image/png": "[encoded data removed]",
      "text/plain": [
       "<Figure size 1000x700 with 2 Axes>"
      ]
     },
     "metadata": {},
     "output_type": "display_data"
    }
   ],
   "source": [
    "cm = tf.math.confusion_matrix(y_test, y_pred)\n",
    "\n",
    "plt.figure(figsize=(10,7))\n",
    "sns.heatmap(cm, annot=True, fmt='d')\n",
    "plt.xlabel(\"Predicted\")\n",
    "plt.ylabel(\"Truth\")"
   ]
  },
  {
   "cell_type": "code",
   "execution_count": 21,
   "metadata": {
    "ExecuteTime": {
     "end_time": "2022-02-08T04:28:49.783391Z",
     "start_time": "2022-02-08T04:28:45.367553Z"
    }
   },
   "outputs": [
    {
     "name": "stderr",
     "output_type": "stream",
     "text": [
      "WARNING:absl:Found untraced functions such as _jit_compiled_convolution_op, _jit_compiled_convolution_op while saving (showing 2 of 2). These functions will not be directly callable after loading.\n"
     ]
    },
    {
     "name": "stdout",
     "output_type": "stream",
     "text": [
      "INFO:tensorflow:Assets written to: model/cnn/assets\n"
     ]
    },
    {
     "name": "stderr",
     "output_type": "stream",
     "text": [
      "INFO:tensorflow:Assets written to: model/cnn/assets\n"
     ]
    }
   ],
   "source": [
    "model.save(\"model/cnn\")"
   ]
  },
  {
   "cell_type": "code",
   "execution_count": null,
   "metadata": {},
   "outputs": [],
   "source": []
  }
 ],
 "metadata": {
  "kernelspec": {
   "display_name": "Python 3",
   "language": "python",
   "name": "python3"
  },
  "language_info": {
   "codemirror_mode": {
    "name": "ipython",
    "version": 3
   },
   "file_extension": ".py",
   "mimetype": "text/x-python",
   "name": "python",
   "nbconvert_exporter": "python",
   "pygments_lexer": "ipython3",
   "version": "3.9.6"
  },
  "toc": {
   "base_numbering": 1,
   "nav_menu": {},
   "number_sections": true,
   "sideBar": true,
   "skip_h1_title": false,
   "title_cell": "Table of Contents",
   "title_sidebar": "Contents",
   "toc_cell": false,
   "toc_position": {},
   "toc_section_display": true,
   "toc_window_display": false
  },
  "varInspector": {
   "cols": {
    "lenName": 16,
    "lenType": 16,
    "lenVar": 40
   },
   "kernels_config": {
    "python": {
     "delete_cmd_postfix": "",
     "delete_cmd_prefix": "del ",
     "library": "var_list.py",
     "varRefreshCmd": "print(var_dic_list())"
    },
    "r": {
     "delete_cmd_postfix": ") ",
     "delete_cmd_prefix": "rm(",
     "library": "var_list.r",
     "varRefreshCmd": "cat(var_dic_list()) "
    }
   },
   "types_to_exclude": [
    "module",
    "function",
    "builtin_function_or_method",
    "instance",
    "_Feature"
   ],
   "window_display": false
  }
 },
 "nbformat": 4,
 "nbformat_minor": 4
}
